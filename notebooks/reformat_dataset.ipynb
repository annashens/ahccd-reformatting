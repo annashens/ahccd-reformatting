{
 "cells": [
  {
   "cell_type": "code",
   "execution_count": null,
   "metadata": {},
   "outputs": [],
   "source": [
    "import re\n",
    "import pandas as pd\n",
    "import numpy as np\n",
    "import os\n",
    "import tqdm\n"
   ]
  },
  {
   "cell_type": "code",
   "execution_count": null,
   "metadata": {},
   "outputs": [],
   "source": [
    "def stackDates(df, value_name, year_col_name='Year', month_col_name='Mo'):\n",
    "\tdf['yyyy-mm'] = df[year_col_name]+'-'+df[month_col_name].apply(lambda x: str(x).zfill(2))\n",
    "\tdf.drop(columns=[year_col_name, month_col_name], inplace=True)\n",
    "\tdf.set_index('yyyy-mm', inplace=True)\n",
    "\tstacked_df = df.stack().reset_index().rename(columns={'level_1': 'day', 0: value_name})\n",
    "\tstacked_df['yyyy-mm-dd'] = stacked_df['yyyy-mm'] + '-' + stacked_df['day']\n",
    "\tstacked_df.drop(columns=['yyyy-mm', 'day'], inplace=True)\n",
    "\tstacked_df.set_index('yyyy-mm-dd', inplace=True)\n",
    "\treturn stacked_df\n",
    "def readTempTextFile(path):   \n",
    "    df_list = []\n",
    "    with open(path) as f:\n",
    "        lines = f.readlines()\n",
    "        lines[2] = lines[2].replace('Day ', '')\n",
    "        details = lines[0].split(',')\n",
    "        details = [item.strip() for item in details]\n",
    "        for line in lines[3:]:\n",
    "            if 'Jour' in line:\n",
    "                continue\n",
    "            # remove whitespace at the start and the newline at the end\n",
    "            line = line.strip()\n",
    "            # split each column on whitespace\n",
    "            columns = re.split('\\s+', line, maxsplit=35)\n",
    "            df_list.append(columns)\n",
    "        headers=re.split('\\s+', lines[2])[1:-1]\n",
    "    f.close\n",
    "    return pd.DataFrame(df_list, columns=headers), details"
   ]
  },
  {
   "cell_type": "code",
   "execution_count": null,
   "metadata": {},
   "outputs": [],
   "source": [
    "\n",
    "folder_name = 'Homog_daily_mean_temp_v2022_Gen3'\n",
    "folder_path = '../data/' + folder_name + '/'\n",
    "output_folder = '../results/' + folder_name + '/'\n",
    "os.makedirs(output_folder, exist_ok=True)\n",
    "for filename in os.listdir(folder_path):\n",
    "    input_path = folder_path + filename\n",
    "    temp_df, details = readTempTextFile(input_path)\n",
    "    value_name = details[4].title() + ' [' + details[5] + ']'\n",
    "    print(input_path)\n",
    "    output_path = output_folder + filename[:-4] +'.csv'\n",
    "    output_df = stackDates(temp_df, value_name)\n",
    "    output_df.to_csv(output_path)\n",
    "    mask = output_df.apply(lambda row: any(['M' in val for val in row.values]), axis=1)\n",
    "    display(output_df[mask])\n",
    "    break\n",
    "    \n"
   ]
  },
  {
   "cell_type": "code",
   "execution_count": null,
   "metadata": {},
   "outputs": [],
   "source": []
  },
  {
   "cell_type": "code",
   "execution_count": null,
   "metadata": {},
   "outputs": [],
   "source": [
    "\n",
    "    "
   ]
  },
  {
   "cell_type": "code",
   "execution_count": null,
   "metadata": {},
   "outputs": [],
   "source": []
  },
  {
   "cell_type": "code",
   "execution_count": null,
   "metadata": {},
   "outputs": [],
   "source": []
  }
 ],
 "metadata": {
  "kernelspec": {
   "display_name": ".venv",
   "language": "python",
   "name": "python3"
  },
  "language_info": {
   "codemirror_mode": {
    "name": "ipython",
    "version": 3
   },
   "file_extension": ".py",
   "mimetype": "text/x-python",
   "name": "python",
   "nbconvert_exporter": "python",
   "pygments_lexer": "ipython3",
   "version": "3.11.5"
  }
 },
 "nbformat": 4,
 "nbformat_minor": 2
}
