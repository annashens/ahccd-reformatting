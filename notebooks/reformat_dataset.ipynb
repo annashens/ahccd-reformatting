{
 "cells": [
  {
   "cell_type": "markdown",
   "metadata": {},
   "source": [
    "**Table of contents**<a id='toc0_'></a>    \n",
    "- [Set-up](#toc1_)    \n",
    "      - [Libraries](#toc1_1_1_1_)    \n",
    "      - [Functions](#toc1_1_1_2_)    \n",
    "- [Analysis](#toc2_)    \n",
    "  - [Precipitation](#toc2_1_)    \n",
    "      - [Total](#toc2_1_1_1_)    \n",
    "      - [Rain](#toc2_1_1_2_)    \n",
    "      - [Snow](#toc2_1_1_3_)    \n",
    "  - [Temperature](#toc2_2_)    \n",
    "      - [Mean](#toc2_2_1_1_)    \n",
    "\n",
    "<!-- vscode-jupyter-toc-config\n",
    "\tnumbering=false\n",
    "\tanchor=true\n",
    "\tflat=false\n",
    "\tminLevel=1\n",
    "\tmaxLevel=6\n",
    "\t/vscode-jupyter-toc-config -->\n",
    "<!-- THIS CELL WILL BE REPLACED ON TOC UPDATE. DO NOT WRITE YOUR TEXT IN THIS CELL -->"
   ]
  },
  {
   "cell_type": "markdown",
   "metadata": {},
   "source": [
    "# <a id='toc1_'></a>[Set-up](#toc0_)"
   ]
  },
  {
   "cell_type": "markdown",
   "metadata": {},
   "source": [
    "#### <a id='toc1_1_1_1_'></a>[Libraries](#toc0_)"
   ]
  },
  {
   "cell_type": "code",
   "execution_count": 8,
   "metadata": {},
   "outputs": [],
   "source": [
    "import re\n",
    "import pandas as pd\n",
    "import numpy as np\n",
    "import os\n"
   ]
  },
  {
   "cell_type": "markdown",
   "metadata": {},
   "source": [
    "#### <a id='toc1_1_1_2_'></a>[Functions](#toc0_)"
   ]
  },
  {
   "cell_type": "code",
   "execution_count": 6,
   "metadata": {},
   "outputs": [],
   "source": [
    "def stackDates(df, value_name, year_col_name='Year', month_col_name='Mo'):\n",
    "    df['yyyy-mm'] = df[year_col_name]+'-'+df[month_col_name].apply(lambda x: str(x).zfill(2))\n",
    "    df.drop(columns=[year_col_name, month_col_name], inplace=True)\n",
    "    df.set_index('yyyy-mm', inplace=True)\n",
    "    stacked_df = df.stack().reset_index().rename(columns={'level_1': 'day', 0: value_name})\n",
    "    stacked_df['yyyy-mm-dd'] = stacked_df['yyyy-mm'] + '-' + stacked_df['day']\n",
    "    stacked_df.drop(columns=['yyyy-mm', 'day'], inplace=True)\n",
    "    stacked_df.set_index('yyyy-mm-dd', inplace=True)\n",
    "    return stacked_df\n",
    "\n",
    "def readTempTextFile(path, maxWidth=8):   \n",
    "    df_list = []\n",
    "    with open(path) as f:\n",
    "        lines = f.readlines()\n",
    "        lines[2] = lines[2].replace('Day ', '')\n",
    "        details = lines[0].split(',')\n",
    "        details = [item.strip() for item in details]\n",
    "        for line in lines[3:-1]:\n",
    "            if 'Jour' in line:\n",
    "                continue\n",
    "            # remove whitespace at the start and the newline at the end\n",
    "            line = line.strip()\n",
    "            # split each column on whitespace\n",
    "            # columns = re.split('\\s+', line, maxsplit=35)\n",
    "            year = line[:5].strip()\n",
    "            month = line[5:8].strip()\n",
    "            remainder = line[8:]\n",
    "            segments = [remainder[i:i+maxWidth].strip() for i in range(0, len(remainder), maxWidth)]\n",
    "            columns = [year, month] + segments \n",
    "            df_list.append(columns)\n",
    "        headers=re.split('\\s+', lines[2])[1:-1]\n",
    "    f.close\n",
    "    return pd.DataFrame(df_list, columns=headers), details\n",
    "\n",
    "def readPrecipTextFile(path, maxWidth=9):   \n",
    "    df_list = []\n",
    "    with open(path) as f:\n",
    "        lines = f.readlines()\n",
    "        details = lines[0].split(',')\n",
    "        details = [item.strip() for item in details]\n",
    "        for line in lines[3:-1]:\n",
    "            line = line.strip()\n",
    "\n",
    "            year = line[:5].strip()\n",
    "            month = line[5:8].strip()\n",
    "            remainder = line[8:]\n",
    "            segments = [remainder[i:i+maxWidth].strip() for i in range(0, len(remainder), maxWidth)]\n",
    "            columns = [year, month] + segments \n",
    "            df_list.append(columns)\n",
    "    f.close\n",
    "    headers = ['Year', 'Mo'] + [str(num).zfill(2) for num in range(1, 32)]\n",
    "    return pd.DataFrame(df_list, columns=headers), details"
   ]
  },
  {
   "cell_type": "markdown",
   "metadata": {},
   "source": [
    "# <a id='toc2_'></a>[Analysis](#toc0_)"
   ]
  },
  {
   "cell_type": "markdown",
   "metadata": {},
   "source": [
    "## <a id='toc2_1_'></a>[Precipitation](#toc0_)"
   ]
  },
  {
   "cell_type": "markdown",
   "metadata": {},
   "source": [
    "#### <a id='toc2_1_1_1_'></a>[Total](#toc0_)"
   ]
  },
  {
   "cell_type": "code",
   "execution_count": 10,
   "metadata": {},
   "outputs": [],
   "source": [
    "folder_name = 'Adj_Daily_Total_v2017'\n",
    "input_folder = '../data/' + folder_name + '/'\n",
    "output_folder = '../results/' + folder_name + '/'\n",
    "os.makedirs(output_folder, exist_ok=True)\n",
    "\n",
    "for filename in os.listdir(input_folder):\n",
    "    input_path = input_folder + filename\n",
    "    precip_df, details = readPrecipTextFile(input_path)\n",
    "    value_name = details[4].title() + ' [' + details[5] + ']'\n",
    "    output_path = output_folder + filename[:-4] +'.csv'\n",
    "    output_df = stackDates(precip_df, value_name)\n",
    "    output_df.to_csv(output_path)\n",
    "    "
   ]
  },
  {
   "cell_type": "markdown",
   "metadata": {},
   "source": [
    "#### <a id='toc2_1_1_2_'></a>[Rain](#toc0_)"
   ]
  },
  {
   "cell_type": "code",
   "execution_count": 15,
   "metadata": {},
   "outputs": [],
   "source": [
    "folder_name = 'Adj_Daily_Rain_v2017'\n",
    "input_folder = '../data/' + folder_name + '/'\n",
    "output_folder = '../results/' + folder_name + '/'\n",
    "os.makedirs(output_folder, exist_ok=True)\n",
    "\n",
    "for filename in os.listdir(input_folder):\n",
    "    input_path = input_folder + filename\n",
    "    precip_df, details = readPrecipTextFile(input_path)\n",
    "    value_name = details[4].title() + ' [' + details[5] + ']'\n",
    "    output_path = output_folder + filename[:-4] +'.csv'\n",
    "    output_df = stackDates(precip_df, value_name)\n",
    "    output_df.to_csv(output_path)\n",
    "    "
   ]
  },
  {
   "cell_type": "markdown",
   "metadata": {},
   "source": [
    "#### <a id='toc2_1_1_3_'></a>[Snow](#toc0_)"
   ]
  },
  {
   "cell_type": "code",
   "execution_count": 14,
   "metadata": {},
   "outputs": [],
   "source": [
    "folder_name = 'Adj_Daily_Snow_v2017'\n",
    "input_folder = '../data/' + folder_name + '/'\n",
    "output_folder = '../results/' + folder_name + '/'\n",
    "os.makedirs(output_folder, exist_ok=True)\n",
    "\n",
    "for filename in os.listdir(input_folder):\n",
    "    input_path = input_folder + filename\n",
    "    precip_df, details = readPrecipTextFile(input_path)\n",
    "    value_name = details[4].title() + ' [' + details[5] + ']'\n",
    "    output_path = output_folder + filename[:-4] +'.csv'\n",
    "    output_df = stackDates(precip_df, value_name)\n",
    "    output_df.to_csv(output_path)\n",
    "    "
   ]
  },
  {
   "cell_type": "markdown",
   "metadata": {},
   "source": [
    "## <a id='toc2_2_'></a>[Temperature](#toc0_)"
   ]
  },
  {
   "cell_type": "markdown",
   "metadata": {},
   "source": [
    "#### <a id='toc2_2_1_1_'></a>[Mean](#toc0_)"
   ]
  },
  {
   "cell_type": "code",
   "execution_count": null,
   "metadata": {},
   "outputs": [],
   "source": [
    "folder_name = 'Homog_daily_mean_temp_v2022_Gen3'\n",
    "input_folder = '../data/' + folder_name + '/'\n",
    "output_folder = '../results/' + folder_name + '/'\n",
    "os.makedirs(output_folder, exist_ok=True)\n",
    "\n",
    "for filename in os.listdir(input_folder):\n",
    "    input_path = folder_path + filename\n",
    "    temp_df, details = readTempTextFile(input_path)\n",
    "    value_name = details[4].title() + ' [' + details[5] + ']'\n",
    "    output_path = output_folder + filename[:-4] +'.csv'\n",
    "    output_df = stackDates(temp_df, value_name)\n",
    "    output_df.to_csv(output_path)\n"
   ]
  }
 ],
 "metadata": {
  "kernelspec": {
   "display_name": ".venv",
   "language": "python",
   "name": "python3"
  },
  "language_info": {
   "codemirror_mode": {
    "name": "ipython",
    "version": 3
   },
   "file_extension": ".py",
   "mimetype": "text/x-python",
   "name": "python",
   "nbconvert_exporter": "python",
   "pygments_lexer": "ipython3",
   "version": "3.11.5"
  }
 },
 "nbformat": 4,
 "nbformat_minor": 2
}
